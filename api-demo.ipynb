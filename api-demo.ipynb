{
 "cells": [
  {
   "cell_type": "markdown",
   "source": [
    "### setup"
   ],
   "metadata": {}
  },
  {
   "cell_type": "code",
   "execution_count": 140,
   "source": [
    "import requests\n",
    "import json\n",
    "\n",
    "url_stub = \"http://192.168.99.108:8000/api/v1\" # or https://validation-server-stg.urban.org/api/v1/"
   ],
   "outputs": [],
   "metadata": {}
  },
  {
   "cell_type": "markdown",
   "source": [
    "/api-auth-token/"
   ],
   "metadata": {}
  },
  {
   "cell_type": "code",
   "execution_count": 141,
   "source": [
    "user_account = {\n",
    "    \"username\": \"admin\",  # your username\n",
    "    \"password\": \"admin\"   # your password\n",
    "}\n",
    "\n",
    "r = requests.post(f\"http://192.168.99.108:8000/api/api-token-auth/\", data=user_account)\n"
   ],
   "outputs": [],
   "metadata": {}
  },
  {
   "cell_type": "code",
   "execution_count": 142,
   "source": [
    "print(r.status_code)\n",
    "print(r.reason)\n",
    "print(r.text)\n",
    "\n",
    "token = r.json()[\"token\"]\n",
    "print(token)\n",
    "\n",
    "headers = {\"Authorization\": f\"Token {token}\"}\n"
   ],
   "outputs": [
    {
     "output_type": "stream",
     "name": "stdout",
     "text": [
      "200\n",
      "OK\n",
      "{\"token\":\"29f7c47590b3dca77a1c1fff3a8c2e6a04d4acaf\"}\n",
      "29f7c47590b3dca77a1c1fff3a8c2e6a04d4acaf\n"
     ]
    }
   ],
   "metadata": {}
  },
  {
   "cell_type": "markdown",
   "source": [
    "### /api/v1/command/"
   ],
   "metadata": {}
  },
  {
   "cell_type": "markdown",
   "source": [
    "#### post a new command\n",
    "\n",
    "* `POST` upon new file upload"
   ],
   "metadata": {}
  },
  {
   "cell_type": "code",
   "execution_count": 145,
   "source": [
    "sanitized_command_input = {\n",
    "        \"analysis_query\":\"fakequery1\",\n",
    "        \"transformation_query\":\"alsofake1\"\n",
    "    }\n",
    "\n",
    "payload = {\n",
    "    \"command_type\": 2,\n",
    "    \"command_name\" : \"test-5\", \n",
    "    \"sanitized_command_input\": json.dumps(sanitized_command_input)\n",
    "}\n",
    "\n",
    "r = requests.post(f\"{url_stub}/command/\", headers=headers, data=payload)"
   ],
   "outputs": [],
   "metadata": {}
  },
  {
   "cell_type": "code",
   "execution_count": 146,
   "source": [
    "print(r.status_code)\n",
    "print(r.reason)\n",
    "print(r.text)\n",
    "\n",
    "for key, value in r.json().items():\n",
    "    print(key, value)"
   ],
   "outputs": [
    {
     "output_type": "stream",
     "name": "stdout",
     "text": [
      "201\n",
      "Created\n",
      "{\"command_id\":4,\"researcher_id\":1,\"command_name\":\"test-5\",\"command_type\":2,\"sanitized_command_input\":{\"analysis_query\":\"fakequery1\",\"transformation_query\":\"alsofake1\"}}\n",
      "command_id 4\n",
      "researcher_id 1\n",
      "command_name test-5\n",
      "command_type 2\n",
      "sanitized_command_input {'analysis_query': 'fakequery1', 'transformation_query': 'alsofake1'}\n"
     ]
    }
   ],
   "metadata": {}
  },
  {
   "cell_type": "markdown",
   "source": [
    "#### get a command"
   ],
   "metadata": {}
  },
  {
   "cell_type": "code",
   "execution_count": 147,
   "source": [
    "command_id = r.json()[\"command_id\"]\n",
    "r = requests.get(f\"{url_stub}/command/{command_id}/\", headers=headers)\n",
    "\n",
    "print(r.status_code)\n",
    "print(r.reason)\n",
    "for key, value in r.json().items():\n",
    "    print(key, value)"
   ],
   "outputs": [
    {
     "output_type": "stream",
     "name": "stdout",
     "text": [
      "200\n",
      "OK\n",
      "command_id 4\n",
      "researcher_id 1\n",
      "command_name test-5\n",
      "command_type 2\n",
      "sanitized_command_input {'analysis_query': 'fakequery1', 'transformation_query': 'alsofake1'}\n"
     ]
    }
   ],
   "metadata": {}
  },
  {
   "cell_type": "markdown",
   "source": [
    "#### rename a command\n",
    "\n",
    "* The mockup allows you to rename a command"
   ],
   "metadata": {}
  },
  {
   "cell_type": "code",
   "execution_count": null,
   "source": [
    "payload = {\n",
    "    \"command_name\" : \"new_command_name\", \n",
    "}\n",
    "command_id = r.json()[\"command_id\"]\n",
    "r = requests.patch(f\"{url_stub}/command/{command_id}/\", headers=headers, data=payload)\n",
    "print(r.status_code)\n",
    "print(r.reason)\n",
    "\n",
    "for key, value in r.json().items():\n",
    "    print(key, value)"
   ],
   "outputs": [],
   "metadata": {}
  },
  {
   "cell_type": "markdown",
   "source": [
    "#### get list of commands"
   ],
   "metadata": {}
  },
  {
   "cell_type": "code",
   "execution_count": 148,
   "source": [
    "r2 = requests.get(f\"{url_stub}/command/\", headers=headers)\n",
    "\n",
    "print(r2.status_code)\n",
    "print(r2.reason)\n",
    "for key, value in r2.json().items():\n",
    "    print(key, value)"
   ],
   "outputs": [
    {
     "output_type": "stream",
     "name": "stdout",
     "text": [
      "200\n",
      "OK\n",
      "count 4\n",
      "next None\n",
      "previous None\n",
      "results [{'command_id': 4, 'researcher_id': 1, 'command_name': 'test-5', 'command_type': 2, 'sanitized_command_input': {'analysis_query': 'fakequery1', 'transformation_query': 'alsofake1'}}, {'command_id': 3, 'researcher_id': 1, 'command_name': 'test-4', 'command_type': 2, 'sanitized_command_input': {'analysis_query': 'fakequery1', 'transformation_query': 'alsofake1'}}, {'command_id': 2, 'researcher_id': 1, 'command_name': 'test-3', 'command_type': 2, 'sanitized_command_input': {'analysis_query': 'fakequery1', 'transformation_query': 'alsofake1'}}, {'command_id': 1, 'researcher_id': 1, 'command_name': 'test-9', 'command_type': 2, 'sanitized_command_input': {'analysis_query': 'fakequery1', 'transformation_query': 'alsofake1'}}]\n"
     ]
    }
   ],
   "metadata": {}
  },
  {
   "cell_type": "markdown",
   "source": [
    "### /api/v1/synthetic-data-run/"
   ],
   "metadata": {}
  },
  {
   "cell_type": "markdown",
   "source": [
    "#### get a synthetic data run"
   ],
   "metadata": {}
  },
  {
   "cell_type": "code",
   "execution_count": 149,
   "source": [
    "r = requests.get(f\"{url_stub}/synthetic-data-run/1/\", headers=headers)\n",
    "\n",
    "print(r.status_code)\n",
    "print(r.reason)\n",
    "for key, value in r.json().items():\n",
    "    print(key, value)"
   ],
   "outputs": [
    {
     "output_type": "stream",
     "name": "stdout",
     "text": [
      "200\n",
      "OK\n",
      "command_id 1\n",
      "run_id 1\n",
      "epsilon 1.00\n",
      "date_time_run_submitted 2021-08-17T15:13:37+0000\n"
     ]
    }
   ],
   "metadata": {}
  },
  {
   "cell_type": "markdown",
   "source": [
    "#### get a synthetic data run querying by command_id"
   ],
   "metadata": {}
  },
  {
   "cell_type": "code",
   "execution_count": 150,
   "source": [
    "r = requests.get(f\"{url_stub}/synthetic-data-run?command_id={command_id}\", headers=headers)\n",
    "\n",
    "print(r.status_code)\n",
    "print(r.reason)\n",
    "for key, value in r.json().items():\n",
    "    print(key, value)"
   ],
   "outputs": [
    {
     "output_type": "stream",
     "name": "stdout",
     "text": [
      "200\n",
      "OK\n",
      "count 1\n",
      "next None\n",
      "previous None\n",
      "results [{'command_id': 4, 'run_id': 4, 'epsilon': '1.00', 'date_time_run_submitted': '2021-08-17T17:28:46+0000'}]\n"
     ]
    }
   ],
   "metadata": {}
  },
  {
   "cell_type": "markdown",
   "source": [
    "### /api/v1/synthetic-data-result/"
   ],
   "metadata": {}
  },
  {
   "cell_type": "markdown",
   "source": [
    "#### get a synthetic data result\n",
    "\n",
    "* What is the best way to signal if a run failed?"
   ],
   "metadata": {}
  },
  {
   "cell_type": "code",
   "execution_count": null,
   "source": [
    "r = requests.get(f\"{url_stub}/synthetic-data-result/{run_id}/\", headers=headers)\n",
    "\n",
    "print(r.status_code)\n",
    "print(r.reason)\n",
    "for key, value in r.json().items():\n",
    "    print(key, value)"
   ],
   "outputs": [],
   "metadata": {}
  },
  {
   "cell_type": "markdown",
   "source": [
    "### /api/v1/confidential-data-run"
   ],
   "metadata": {}
  },
  {
   "cell_type": "markdown",
   "source": [
    "#### post a confidential data run\n",
    "\n",
    "* Will actually be multiple `POST` requests"
   ],
   "metadata": {}
  },
  {
   "cell_type": "code",
   "execution_count": 153,
   "source": [
    "payload = {\n",
    "    \"command_id\": command_id, # from the POST to command\n",
    "    \"epsilon\": 1.00, # will always be 1 for POC\n",
    "}\n",
    "\n",
    "r = requests.post(f\"{url_stub}/confidential-data-run/\", headers=headers, data=payload)\n",
    "\n",
    "print(r.status_code)\n",
    "print(r.reason)\n",
    "\n",
    "for key, value in r.json().items():\n",
    "    print(key, value)"
   ],
   "outputs": [
    {
     "output_type": "stream",
     "name": "stdout",
     "text": [
      "201\n",
      "Created\n",
      "command_id 4\n",
      "run_id 3\n",
      "epsilon 1.00\n",
      "date_time_run_submitted 2021-08-17T17:36:38+0000\n"
     ]
    }
   ],
   "metadata": {}
  },
  {
   "cell_type": "markdown",
   "source": [
    "#### get a confidential data run"
   ],
   "metadata": {}
  },
  {
   "cell_type": "code",
   "execution_count": 154,
   "source": [
    "run_id = r.json()[\"run_id\"]\n",
    "r = requests.get(f\"{url_stub}/confidential-data-run/{run_id}/\", headers=headers)\n",
    "\n",
    "print(r.status_code)\n",
    "print(r.reason)\n",
    "for key, value in r.json().items():\n",
    "    print(key, value)"
   ],
   "outputs": [
    {
     "output_type": "stream",
     "name": "stdout",
     "text": [
      "200\n",
      "OK\n",
      "command_id 4\n",
      "run_id 3\n",
      "epsilon 1.00\n",
      "date_time_run_submitted 2021-08-17T17:36:38+0000\n"
     ]
    }
   ],
   "metadata": {}
  },
  {
   "cell_type": "markdown",
   "source": [
    "#### get a list of confidential data runs querying by command_id"
   ],
   "metadata": {}
  },
  {
   "cell_type": "code",
   "execution_count": 155,
   "source": [
    "r = requests.get(f\"{url_stub}/confidential-data-run?command_id={command_id}\", headers=headers)\n",
    "\n",
    "print(r.status_code)\n",
    "print(r.reason)\n",
    "for key, value in r.json().items():\n",
    "    print(key, value)"
   ],
   "outputs": [
    {
     "output_type": "stream",
     "name": "stdout",
     "text": [
      "200\n",
      "OK\n",
      "count 3\n",
      "next None\n",
      "previous None\n",
      "results [{'command_id': 4, 'run_id': 1, 'epsilon': '1.00', 'date_time_run_submitted': '2021-08-17T17:36:19+0000'}, {'command_id': 4, 'run_id': 2, 'epsilon': '1.00', 'date_time_run_submitted': '2021-08-17T17:36:33+0000'}, {'command_id': 4, 'run_id': 3, 'epsilon': '1.00', 'date_time_run_submitted': '2021-08-17T17:36:38+0000'}]\n"
     ]
    }
   ],
   "metadata": {}
  },
  {
   "cell_type": "markdown",
   "source": [
    "### /api/v1/confidential-data-result/"
   ],
   "metadata": {}
  },
  {
   "cell_type": "markdown",
   "source": [
    "#### get a confidential data result"
   ],
   "metadata": {}
  },
  {
   "cell_type": "code",
   "execution_count": null,
   "source": [
    "run_id = r.json()[\"run_id\"]\n",
    "r = requests.get(f\"{url_stub}/confidential-data-result/{run_id}/\", headers=headers)\n",
    "\n",
    "print(r.status_code)\n",
    "print(r.reason)\n",
    "for key, value in r.json().items():\n",
    "    print(key, value)"
   ],
   "outputs": [],
   "metadata": {}
  },
  {
   "cell_type": "markdown",
   "source": [
    "### /api/v1/public-user-budget/"
   ],
   "metadata": {}
  },
  {
   "cell_type": "markdown",
   "source": [
    "#### get user budget"
   ],
   "metadata": {}
  },
  {
   "cell_type": "code",
   "execution_count": null,
   "source": [
    "r = requests.get(f\"{url_stub}/public-use-budget/\", headers=headers)\n",
    "\n",
    "print(r.status_code)\n",
    "print(r.reason)\n",
    "for key, value in r.json().items():\n",
    "    print(key, value)"
   ],
   "outputs": [],
   "metadata": {}
  },
  {
   "cell_type": "markdown",
   "source": [
    "#### update user budget"
   ],
   "metadata": {}
  },
  {
   "cell_type": "code",
   "execution_count": null,
   "source": [
    "payload = {'privacy_budget_used': '9'}\n",
    "researcher_id = 1\n",
    "r = requests.patch(f\"{url_stub}/public-use-budget/{researcher_id}/\", headers=headers, data=payload)\n",
    "\n",
    "print(r.status_code)\n",
    "print(r.reason)\n",
    "for key, value in r.json().items():\n",
    "    print(key, value)"
   ],
   "outputs": [],
   "metadata": {}
  },
  {
   "cell_type": "markdown",
   "source": [
    "#### don't go over budget"
   ],
   "metadata": {}
  },
  {
   "cell_type": "code",
   "execution_count": null,
   "source": [
    "payload = {'privacy_budget_used': '1000'}\n",
    "\n",
    "r = requests.patch(f\"{url_stub}/public-use-budget/{researcher_id}/\", headers=headers, data=payload)\n",
    "\n",
    "print(r.status_code)\n",
    "print(r.reason)\n",
    "print(r.text)"
   ],
   "outputs": [],
   "metadata": {}
  }
 ],
 "metadata": {
  "orig_nbformat": 4,
  "language_info": {
   "name": "python",
   "version": "3.9.1",
   "mimetype": "text/x-python",
   "codemirror_mode": {
    "name": "ipython",
    "version": 3
   },
   "pygments_lexer": "ipython3",
   "nbconvert_exporter": "python",
   "file_extension": ".py"
  },
  "kernelspec": {
   "name": "python3",
   "display_name": "Python 3.9.1 64-bit"
  },
  "interpreter": {
   "hash": "aee8b7b246df8f9039afb4144a1f6fd8d2ca17a180786b69acc140d282b71a49"
  }
 },
 "nbformat": 4,
 "nbformat_minor": 2
}