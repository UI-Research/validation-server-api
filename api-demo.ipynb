{
 "cells": [
  {
   "cell_type": "markdown",
   "source": [
    "### setup"
   ],
   "metadata": {}
  },
  {
   "cell_type": "code",
   "execution_count": 41,
   "source": [
    "import requests\n",
    "import json\n",
    "\n",
    "token = \"\" # use your real token\n",
    "headers = {\"Authorization\": f\"Token {token}\"}\n",
    "\n",
    "url_stub = \"http://0.0.0.0:8000/api/v1\" # or https://validation-server-stg.urban.org/api/v1/"
   ],
   "outputs": [],
   "metadata": {}
  },
  {
   "cell_type": "markdown",
   "source": [
    "### /api/v1/command/"
   ],
   "metadata": {}
  },
  {
   "cell_type": "markdown",
   "source": [
    "#### post a new command\n",
    "\n",
    "* `POST` upon new file upload"
   ],
   "metadata": {}
  },
  {
   "cell_type": "code",
   "execution_count": 42,
   "source": [
    "sanitized_command_input = {\n",
    "        \"analysis_query\": \"SELECT mars, COUNT(recid) as n FROM puf.puf GROUP BY mars\",\n",
    "        \"transformation_query\": \"CREATE TABLE puf.puf_kueyama AS SELECT * FROM puf.puf\"\n",
    "    }\n",
    "\n",
    "payload = {\n",
    "    \"command_type\": 2,\n",
    "    \"command_name\" : \"command123.sql\", \n",
    "    \"sanitized_command_input\": json.dumps(sanitized_command_input)\n",
    "}\n",
    "\n",
    "r = requests.post(f\"{url_stub}/command/\", headers=headers, data=payload)"
   ],
   "outputs": [],
   "metadata": {}
  },
  {
   "cell_type": "code",
   "execution_count": 43,
   "source": [
    "print(r.status_code)\n",
    "print(r.reason)\n",
    "print(r.text)\n",
    "\n",
    "for key, value in r.json().items():\n",
    "    print(key, value)"
   ],
   "outputs": [
    {
     "output_type": "stream",
     "name": "stdout",
     "text": [
      "201\n",
      "Created\n",
      "{\"command_id\":2,\"researcher_id\":1,\"command_name\":\"command123.sql\",\"command_type\":2,\"sanitized_command_input\":{\"analysis_query\":\"SELECT mars, COUNT(recid) as n FROM puf.puf GROUP BY mars\",\"transformation_query\":\"CREATE TABLE puf.puf_kueyama AS SELECT * FROM puf.puf\"}}\n",
      "command_id 2\n",
      "researcher_id 1\n",
      "command_name command123.sql\n",
      "command_type 2\n",
      "sanitized_command_input {'analysis_query': 'SELECT mars, COUNT(recid) as n FROM puf.puf GROUP BY mars', 'transformation_query': 'CREATE TABLE puf.puf_kueyama AS SELECT * FROM puf.puf'}\n"
     ]
    }
   ],
   "metadata": {}
  },
  {
   "cell_type": "markdown",
   "source": [
    "#### get a command"
   ],
   "metadata": {}
  },
  {
   "cell_type": "code",
   "execution_count": 37,
   "source": [
    "command_id = r.json()[\"command_id\"]\n",
    "r = requests.get(f\"{url_stub}/command/{command_id}/\", headers=headers)\n",
    "\n",
    "print(r.status_code)\n",
    "print(r.reason)\n",
    "for key, value in r.json().items():\n",
    "    print(key, value)"
   ],
   "outputs": [
    {
     "output_type": "stream",
     "name": "stdout",
     "text": [
      "200\n",
      "OK\n",
      "command_id 1\n",
      "researcher_id 1\n",
      "command_name command.sql\n",
      "command_type 2\n",
      "sanitized_command_input {'analysis_query': 'SELECT mars, COUNT(recid) as n FROM puf.puf GROUP BY mars', 'transformation_query': 'CREATE TABLE puf.puf_kueyama AS SELECT * FROM puf.puf'}\n"
     ]
    }
   ],
   "metadata": {}
  },
  {
   "cell_type": "markdown",
   "source": [
    "#### rename a command\n",
    "\n",
    "* The mockup allows you to rename a command"
   ],
   "metadata": {}
  },
  {
   "cell_type": "code",
   "execution_count": 5,
   "source": [
    "payload = {\n",
    "    \"command_name\" : \"new_command_name\", \n",
    "}\n",
    "command_id = r.json()[\"command_id\"]\n",
    "r = requests.patch(f\"{url_stub}/command/{command_id}/\", headers=headers, data=payload)\n",
    "print(r.status_code)\n",
    "print(r.reason)\n",
    "\n",
    "for key, value in r.json().items():\n",
    "    print(key, value)"
   ],
   "outputs": [
    {
     "output_type": "stream",
     "name": "stdout",
     "text": [
      "200\n",
      "OK\n",
      "command_id 1\n",
      "researcher_id 1\n",
      "command_name new_command_name\n",
      "command_type 2\n",
      "sanitized_command_input {'epsilon': 1, 'analysis_query': 'SELECT mars, COUNT(recid) as n FROM puf.puf_kueyama GROUP BY mars', 'transformation_query': 'CREATE TABLE puf.puf_kueyama AS SELECT * FROM puf.puf'}\n"
     ]
    }
   ],
   "metadata": {}
  },
  {
   "cell_type": "markdown",
   "source": [
    "#### get list of commands"
   ],
   "metadata": {}
  },
  {
   "cell_type": "code",
   "execution_count": 6,
   "source": [
    "r2 = requests.get(f\"{url_stub}/command/\", headers=headers)\n",
    "\n",
    "print(r2.status_code)\n",
    "print(r2.reason)\n",
    "for key, value in r2.json().items():\n",
    "    print(key, value)"
   ],
   "outputs": [
    {
     "output_type": "stream",
     "name": "stdout",
     "text": [
      "200\n",
      "OK\n",
      "count 1\n",
      "next None\n",
      "previous None\n",
      "results [{'command_id': 1, 'researcher_id': 1, 'command_name': 'new_command_name', 'command_type': 2, 'sanitized_command_input': {'epsilon': 1, 'analysis_query': 'SELECT mars, COUNT(recid) as n FROM puf.puf_kueyama GROUP BY mars', 'transformation_query': 'CREATE TABLE puf.puf_kueyama AS SELECT * FROM puf.puf'}}]\n"
     ]
    }
   ],
   "metadata": {}
  },
  {
   "cell_type": "markdown",
   "source": [
    "### /api/v1/synthetic-data-run/"
   ],
   "metadata": {}
  },
  {
   "cell_type": "markdown",
   "source": [
    "#### get a synthetic data run"
   ],
   "metadata": {}
  },
  {
   "cell_type": "code",
   "execution_count": 11,
   "source": [
    "r = requests.get(f\"{url_stub}/synthetic-data-run/1/\", headers=headers)\n",
    "\n",
    "print(r.status_code)\n",
    "print(r.reason)\n",
    "for key, value in r.json().items():\n",
    "    print(key, value)"
   ],
   "outputs": [
    {
     "output_type": "stream",
     "name": "stdout",
     "text": [
      "404\n",
      "Not Found\n",
      "detail Not found.\n"
     ]
    }
   ],
   "metadata": {}
  },
  {
   "cell_type": "markdown",
   "source": [
    "### /api/v1/synthetic-data-result/"
   ],
   "metadata": {}
  },
  {
   "cell_type": "markdown",
   "source": [
    "#### get a synthetic data result\n",
    "\n",
    "* What is the best way to signal if a run failed?"
   ],
   "metadata": {}
  },
  {
   "cell_type": "code",
   "execution_count": null,
   "source": [
    "r = requests.get(f\"{url_stub}/synthetic-data-result/{run_id}/\", headers=headers)\n",
    "\n",
    "print(r.status_code)\n",
    "print(r.reason)\n",
    "for key, value in r.json().items():\n",
    "    print(key, value)"
   ],
   "outputs": [],
   "metadata": {}
  },
  {
   "cell_type": "markdown",
   "source": [
    "### /api/v1/confidential-data-run"
   ],
   "metadata": {}
  },
  {
   "cell_type": "markdown",
   "source": [
    "#### post a confidential data run\n",
    "\n",
    "* Will actually be multiple `POST` requests"
   ],
   "metadata": {}
  },
  {
   "cell_type": "code",
   "execution_count": null,
   "source": [
    "payload = {\n",
    "    \"command_id\": command_id, # from the POST to command\n",
    "    \"epsilon\": 1.00, # will always be 1 for POC\n",
    "}\n",
    "\n",
    "r = requests.post(f\"{url_stub}/confidential-data-run/\", headers=headers, data=payload)\n",
    "\n",
    "print(r.status_code)\n",
    "print(r.reason)\n",
    "\n",
    "for key, value in r.json().items():\n",
    "    print(key, value)"
   ],
   "outputs": [],
   "metadata": {}
  },
  {
   "cell_type": "markdown",
   "source": [
    "#### get a confidential data run"
   ],
   "metadata": {}
  },
  {
   "cell_type": "code",
   "execution_count": null,
   "source": [
    "run_id = r.json()[\"run_id\"]\n",
    "r = requests.get(f\"{url_stub}/confidential-data-run/{run_id}/\", headers=headers)\n",
    "\n",
    "print(r.status_code)\n",
    "print(r.reason)\n",
    "for key, value in r.json().items():\n",
    "    print(key, value)"
   ],
   "outputs": [],
   "metadata": {}
  },
  {
   "cell_type": "markdown",
   "source": [
    "### /api/v1/confidential-data-result/"
   ],
   "metadata": {}
  },
  {
   "cell_type": "markdown",
   "source": [
    "#### get a confidential data result"
   ],
   "metadata": {}
  },
  {
   "cell_type": "code",
   "execution_count": null,
   "source": [
    "run_id = r.json()[\"run_id\"]\n",
    "r = requests.get(f\"{url_stub}/confidential-data-result/{run_id}/\", headers=headers)\n",
    "\n",
    "print(r.status_code)\n",
    "print(r.reason)\n",
    "for key, value in r.json().items():\n",
    "    print(key, value)"
   ],
   "outputs": [],
   "metadata": {}
  },
  {
   "cell_type": "markdown",
   "source": [
    "### /api/v1/public-user-budget/"
   ],
   "metadata": {}
  },
  {
   "cell_type": "markdown",
   "source": [
    "#### get user budget"
   ],
   "metadata": {}
  },
  {
   "cell_type": "code",
   "execution_count": 33,
   "source": [
    "r = requests.get(f\"{url_stub}/public-use-budget/\", headers=headers)\n",
    "\n",
    "print(r.status_code)\n",
    "print(r.reason)\n",
    "for key, value in r.json().items():\n",
    "    print(key, value)"
   ],
   "outputs": [
    {
     "output_type": "stream",
     "name": "stdout",
     "text": [
      "200\n",
      "OK\n",
      "count 1\n",
      "next None\n",
      "previous None\n",
      "results [{'researcher_id': 2, 'total_budget_allocated': '100.00', 'total_budget_used': '0.00', 'total_budget_available': 100.0}]\n"
     ]
    }
   ],
   "metadata": {}
  },
  {
   "cell_type": "markdown",
   "source": [
    "#### update user budget"
   ],
   "metadata": {}
  },
  {
   "cell_type": "code",
   "execution_count": 11,
   "source": [
    "payload = {'privacy_budget_used': '9'}\n",
    "researcher_id = 1\n",
    "r = requests.patch(f\"{url_stub}/public-use-budget/{researcher_id}/\", headers=headers, data=payload)\n",
    "\n",
    "print(r.status_code)\n",
    "print(r.reason)\n",
    "for key, value in r.json().items():\n",
    "    print(key, value)"
   ],
   "outputs": [
    {
     "output_type": "stream",
     "name": "stdout",
     "text": [
      "200\n",
      "OK\n",
      "researcher_id 1\n",
      "total_budget_allocated 100.00\n",
      "total_budget_used 9.00\n",
      "total_budget_available 91.0\n"
     ]
    }
   ],
   "metadata": {}
  },
  {
   "cell_type": "markdown",
   "source": [
    "#### don't go over budget"
   ],
   "metadata": {}
  },
  {
   "cell_type": "code",
   "execution_count": null,
   "source": [
    "payload = {'privacy_budget_used': '1000'}\n",
    "\n",
    "r = requests.patch(f\"{url_stub}/public-use-budget/{researcher_id}/\", headers=headers, data=payload)\n",
    "\n",
    "print(r.status_code)\n",
    "print(r.reason)\n",
    "print(r.text)"
   ],
   "outputs": [],
   "metadata": {}
  }
 ],
 "metadata": {
  "orig_nbformat": 4,
  "language_info": {
   "name": "python",
   "version": "3.8.10",
   "mimetype": "text/x-python",
   "codemirror_mode": {
    "name": "ipython",
    "version": 3
   },
   "pygments_lexer": "ipython3",
   "nbconvert_exporter": "python",
   "file_extension": ".py"
  },
  "kernelspec": {
   "name": "python3",
   "display_name": "Python 3.8.10 64-bit ('smartnoise': conda)"
  },
  "interpreter": {
   "hash": "39ff2b5acdb5381394394b5530f9d3c8d7d1da7477de9d6d536c681a1379a868"
  }
 },
 "nbformat": 4,
 "nbformat_minor": 2
}