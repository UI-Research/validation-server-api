{
 "cells": [
  {
   "cell_type": "markdown",
   "source": [
    "### setup"
   ],
   "metadata": {}
  },
  {
   "cell_type": "code",
   "execution_count": null,
   "source": [
    "import requests\n",
    "import json\n",
    "\n",
    "token = \"abcd1234\" # use your real token\n",
    "headers = {\"Authorization\": f\"Token {token}\"}\n",
    "\n",
    "url_stub = \"http://0.0.0.0:8000/api/v1\" # or https://validation-server-stg.urban.org/api/v1/"
   ],
   "outputs": [],
   "metadata": {}
  },
  {
   "cell_type": "markdown",
   "source": [
    "### /api/v1/command/"
   ],
   "metadata": {}
  },
  {
   "cell_type": "markdown",
   "source": [
    "#### post a new command\n",
    "\n",
    "* `POST` upon new file upload"
   ],
   "metadata": {}
  },
  {
   "cell_type": "code",
   "execution_count": null,
   "source": [
    "sanitized_command_input = {\n",
    "        \"epsilon\": 1,\n",
    "        \"analysis_query\": \"SELECT mars, COUNT(recid) as n FROM puf.puf_kueyama GROUP BY mars\",\n",
    "        \"transformation_query\": \"CREATE TABLE puf.puf_kueyama AS SELECT * FROM puf.puf\"\n",
    "    }\n",
    "\n",
    "payload = {\n",
    "    \"command_type\": 2,\n",
    "    \"command_name\" : \"command.sql\", \n",
    "    \"sanitized_command_input\": json.dumps(sanitized_command_input)\n",
    "}\n",
    "\n",
    "r = requests.post(f\"{url_stub}/command/\", headers=headers, data=payload)"
   ],
   "outputs": [],
   "metadata": {}
  },
  {
   "cell_type": "code",
   "execution_count": null,
   "source": [
    "print(r.status_code)\n",
    "print(r.reason)\n",
    "\n",
    "for key, value in r.json().items():\n",
    "    print(key, value)"
   ],
   "outputs": [],
   "metadata": {}
  },
  {
   "cell_type": "markdown",
   "source": [
    "#### get a command"
   ],
   "metadata": {}
  },
  {
   "cell_type": "code",
   "execution_count": null,
   "source": [
    "command_id = r.json()[\"command_id\"]\n",
    "r = requests.get(f\"{url_stub}/command/{command_id}/\", headers=headers)\n",
    "\n",
    "print(r.status_code)\n",
    "print(r.reason)\n",
    "for key, value in r.json().items():\n",
    "    print(key, value)"
   ],
   "outputs": [],
   "metadata": {}
  },
  {
   "cell_type": "markdown",
   "source": [
    "#### rename a command\n",
    "\n",
    "* The mockup allows you to rename a command"
   ],
   "metadata": {}
  },
  {
   "cell_type": "code",
   "execution_count": null,
   "source": [
    "payload = {\n",
    "    \"command_title\" : \"new_command_name\", \n",
    "}\n",
    "command_id = r.json()[\"command_id\"]\n",
    "r = requests.patch(f\"{url_stub}/command/{command_id}/\", headers=headers, data=payload)\n",
    "print(r.status_code)\n",
    "print(r.reason)\n",
    "\n",
    "for key, value in r.json().items():\n",
    "    print(key, value)"
   ],
   "outputs": [],
   "metadata": {}
  },
  {
   "cell_type": "markdown",
   "source": [
    "#### get list of commands"
   ],
   "metadata": {}
  },
  {
   "cell_type": "code",
   "execution_count": null,
   "source": [
    "r2 = requests.get(f\"{url_stub}/command/\", headers=headers)\n",
    "\n",
    "print(r2.status_code)\n",
    "print(r2.reason)\n",
    "for key, value in r2.json().items():\n",
    "    print(key, value)"
   ],
   "outputs": [],
   "metadata": {}
  },
  {
   "cell_type": "markdown",
   "source": [
    "### /api/v1/synthetic-data-run/"
   ],
   "metadata": {}
  },
  {
   "cell_type": "markdown",
   "source": [
    "#### post a run\n",
    "\n",
    "* Can this be created directly in Django when a command is `POST`-ed?\n",
    "* TO-DO: Trigger the backend AWS Lambda function to run the SmartNoise query"
   ],
   "metadata": {}
  },
  {
   "cell_type": "code",
   "execution_count": null,
   "source": [
    "payload = {\n",
    "    \"command_id\": command_id, # from the POST to command\n",
    "    \"epsilon\": 1.00, # will always be 1 for POC\n",
    "}\n",
    "\n",
    "r = requests.post(f\"{url_stub}/synthetic-data-run/\", headers=headers, data=payload)\n",
    "\n",
    "print(r.status_code)\n",
    "print(r.reason)\n",
    "\n",
    "for key, value in r.json().items():\n",
    "    print(key, value)"
   ],
   "outputs": [],
   "metadata": {}
  },
  {
   "cell_type": "markdown",
   "source": [
    "#### get a synthetic data run"
   ],
   "metadata": {}
  },
  {
   "cell_type": "code",
   "execution_count": null,
   "source": [
    "run_id = r.json()[\"run_id\"]\n",
    "r = requests.get(f\"{url_stub}/synthetic-data-run/{run_id}/\", headers=headers)\n",
    "\n",
    "print(r.status_code)\n",
    "print(r.reason)\n",
    "for key, value in r.json().items():\n",
    "    print(key, value)"
   ],
   "outputs": [],
   "metadata": {}
  },
  {
   "cell_type": "markdown",
   "source": [
    "### /api/v1/synthetic-data-result/"
   ],
   "metadata": {}
  },
  {
   "cell_type": "markdown",
   "source": [
    "#### post a synthetic result\n",
    "\n",
    "* Will be done from the backend"
   ],
   "metadata": {}
  },
  {
   "cell_type": "code",
   "execution_count": null,
   "source": [
    "result = {\n",
    "    \"status\": \"success\",\n",
    "    \"data\": \"some_data\",\n",
    "    \"accuracy\": \"some_accuracy\"\n",
    "}\n",
    "\n",
    "payload = {\n",
    "    \"command_id\": command_id,\n",
    "    \"run_id\": run_id,\n",
    "    \"result\": json.dumps(result),\n",
    "    \"privacy_budget_used\": 1.00, # will always be 1 for POC\n",
    "}\n",
    "\n",
    "r = requests.post(f\"{url_stub}/synthetic-data-result/\", headers=headers, data=payload)\n",
    "\n",
    "print(r.status_code)\n",
    "print(r.reason)\n",
    "\n",
    "for key, value in r.json().items():\n",
    "    print(key, value)"
   ],
   "outputs": [],
   "metadata": {}
  },
  {
   "cell_type": "markdown",
   "source": [
    "#### get a synthetic data result\n",
    "\n",
    "* What is the best way to signal if a run failed?"
   ],
   "metadata": {}
  },
  {
   "cell_type": "code",
   "execution_count": null,
   "source": [
    "r = requests.get(f\"{url_stub}/synthetic-data-result/{run_id}/\", headers=headers)\n",
    "\n",
    "print(r.status_code)\n",
    "print(r.reason)\n",
    "for key, value in r.json().items():\n",
    "    print(key, value)"
   ],
   "outputs": [],
   "metadata": {}
  },
  {
   "cell_type": "markdown",
   "source": [
    "### /api/v1/confidential-data-run"
   ],
   "metadata": {}
  },
  {
   "cell_type": "markdown",
   "source": [
    "#### post a confidential data run\n",
    "\n",
    "* Will actually be multiple `POST` requests"
   ],
   "metadata": {}
  },
  {
   "cell_type": "code",
   "execution_count": null,
   "source": [
    "payload = {\n",
    "    \"command_id\": command_id, # from the POST to command\n",
    "    \"epsilon\": 1.00, # will always be 1 for POC\n",
    "}\n",
    "\n",
    "r = requests.post(f\"{url_stub}/confidential-data-run/\", headers=headers, data=payload)\n",
    "\n",
    "print(r.status_code)\n",
    "print(r.reason)\n",
    "\n",
    "for key, value in r.json().items():\n",
    "    print(key, value)"
   ],
   "outputs": [],
   "metadata": {}
  },
  {
   "cell_type": "markdown",
   "source": [
    "#### get a confidential data run"
   ],
   "metadata": {}
  },
  {
   "cell_type": "code",
   "execution_count": null,
   "source": [
    "run_id = r.json()[\"run_id\"]\n",
    "r = requests.get(f\"{url_stub}/confidential-data-run/{run_id}/\", headers=headers)\n",
    "\n",
    "print(r.status_code)\n",
    "print(r.reason)\n",
    "for key, value in r.json().items():\n",
    "    print(key, value)"
   ],
   "outputs": [],
   "metadata": {}
  },
  {
   "cell_type": "markdown",
   "source": [
    "### /api/v1/confidential-data-result/"
   ],
   "metadata": {}
  },
  {
   "cell_type": "markdown",
   "source": [
    "#### post a confidential data result\n",
    "\n",
    "* Will be done from the backend"
   ],
   "metadata": {}
  },
  {
   "cell_type": "code",
   "execution_count": null,
   "source": [
    "result = {\n",
    "    \"status\": \"success\",\n",
    "    \"data\": \"some_data\",\n",
    "    \"accuracy\": \"some_accuracy\"\n",
    "}\n",
    "\n",
    "payload = {\n",
    "    \"command_id\": command_id,\n",
    "    \"run_id\": run_id,\n",
    "    \"result\": json.dumps(result),\n",
    "    \"privacy_budget_used\": 1.00,\n",
    "    \"display_results_decision\": True,\n",
    "    \"release_results_decision\": False\n",
    "}\n",
    "\n",
    "r = requests.post(f\"{url_stub}/confidential-data-result/\", headers=headers, data=payload)\n",
    "\n",
    "print(r.status_code)\n",
    "print(r.reason)\n",
    "\n",
    "for key, value in r.json().items():\n",
    "    print(key, value)"
   ],
   "outputs": [],
   "metadata": {}
  },
  {
   "cell_type": "markdown",
   "source": [
    "#### get a confidential data result"
   ],
   "metadata": {}
  },
  {
   "cell_type": "code",
   "execution_count": null,
   "source": [
    "run_id = r.json()[\"run_id\"]\n",
    "r = requests.get(f\"{url_stub}/confidential-data-result/{run_id}/\", headers=headers)\n",
    "\n",
    "print(r.status_code)\n",
    "print(r.reason)\n",
    "for key, value in r.json().items():\n",
    "    print(key, value)"
   ],
   "outputs": [],
   "metadata": {}
  },
  {
   "cell_type": "markdown",
   "source": [
    "### /api/v1/public-user-budget/"
   ],
   "metadata": {}
  },
  {
   "cell_type": "markdown",
   "source": [
    "#### get user budget"
   ],
   "metadata": {}
  },
  {
   "cell_type": "code",
   "execution_count": null,
   "source": [
    "researcher_id = 1\n",
    "r = requests.get(f\"{url_stub}/public-use-budget/{researcher_id}/\", headers=headers)\n",
    "\n",
    "print(r.status_code)\n",
    "print(r.reason)\n",
    "for key, value in r.json().items():\n",
    "    print(key, value)"
   ],
   "outputs": [],
   "metadata": {}
  },
  {
   "cell_type": "markdown",
   "source": [
    "#### update user budget"
   ],
   "metadata": {}
  },
  {
   "cell_type": "code",
   "execution_count": null,
   "source": [
    "payload = {'total_budget_allocated': '100.00', 'privacy_budget_used': '1'}\n",
    "\n",
    "r = requests.patch(f\"{url_stub}/public-use-budget/{researcher_id}/\", headers=headers, data=payload)\n",
    "\n",
    "print(r.status_code)\n",
    "print(r.reason)\n",
    "for key, value in r.json().items():\n",
    "    print(key, value)"
   ],
   "outputs": [],
   "metadata": {}
  },
  {
   "cell_type": "markdown",
   "source": [
    "#### don't go over budget"
   ],
   "metadata": {}
  },
  {
   "cell_type": "code",
   "execution_count": null,
   "source": [
    "payload = {'total_budget_allocated': '100.00', 'privacy_budget_used': '1000'}\n",
    "\n",
    "r = requests.patch(f\"{url_stub}/public-use-budget/{researcher_id}/\", headers=headers, data=payload)\n",
    "\n",
    "print(r.status_code)\n",
    "print(r.reason)\n",
    "print(r.text)"
   ],
   "outputs": [],
   "metadata": {}
  }
 ],
 "metadata": {
  "orig_nbformat": 4,
  "language_info": {
   "name": "python",
   "version": "3.8.10",
   "mimetype": "text/x-python",
   "codemirror_mode": {
    "name": "ipython",
    "version": 3
   },
   "pygments_lexer": "ipython3",
   "nbconvert_exporter": "python",
   "file_extension": ".py"
  },
  "kernelspec": {
   "name": "python3",
   "display_name": "Python 3.8.10 64-bit ('smartnoise': conda)"
  },
  "interpreter": {
   "hash": "39ff2b5acdb5381394394b5530f9d3c8d7d1da7477de9d6d536c681a1379a868"
  }
 },
 "nbformat": 4,
 "nbformat_minor": 2
}